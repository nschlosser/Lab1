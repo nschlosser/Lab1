{
  "nbformat": 4,
  "nbformat_minor": 0,
  "metadata": {
    "colab": {
      "name": "Lab1.ipynb",
      "provenance": [],
      "authorship_tag": "ABX9TyN9aL4Jc1c+R7Y+U1XGDxA7",
      "include_colab_link": true
    },
    "kernelspec": {
      "name": "python3",
      "display_name": "Python 3"
    }
  },
  "cells": [
    {
      "cell_type": "markdown",
      "metadata": {
        "id": "view-in-github",
        "colab_type": "text"
      },
      "source": [
        "<a href=\"https://colab.research.google.com/github/nschlosser/Lab1/blob/master/Lab1.ipynb\" target=\"_parent\"><img src=\"https://colab.research.google.com/assets/colab-badge.svg\" alt=\"Open In Colab\"/></a>"
      ]
    },
    {
      "cell_type": "markdown",
      "metadata": {
        "id": "qdGg-F5T8bmG",
        "colab_type": "text"
      },
      "source": [
        "### Do you like using Jupyter Notebooks?"
      ]
    },
    {
      "cell_type": "markdown",
      "metadata": {
        "id": "Uxe6PdEmAMFT",
        "colab_type": "text"
      },
      "source": [
        "#### I do enjoy the use of Jupyter Notebooks. I think that Jupyter Notebooks will be a great tool in the future of this course. I also feel that these notebooks will be a great skill for me to learn both in my academic and professional career."
      ]
    },
    {
      "cell_type": "markdown",
      "metadata": {
        "id": "YsqnxDo19USe",
        "colab_type": "text"
      },
      "source": [
        "### What do you want to learn more about in Jupyter Notebooks?"
      ]
    },
    {
      "cell_type": "markdown",
      "metadata": {
        "id": "HcTTWEgL9g73",
        "colab_type": "text"
      },
      "source": [
        "#### I hope to learn more about what Jupyter Notebooks are actually used for. I also hope to learn how to use them effectively and properly thorughout this course and in my own understanding of data organization. The coding aspect also interests me, so I hope to learn more about this as well."
      ]
    },
    {
      "cell_type": "markdown",
      "metadata": {
        "id": "CcPEJQRo9nAM",
        "colab_type": "text"
      },
      "source": [
        "![Purple Tang](https://raw.githubusercontent.com/nschlosser/Lab1/master/Images/Purple%20Tang.jpg)"
      ]
    }
  ]
}