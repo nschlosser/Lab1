{
  "nbformat": 4,
  "nbformat_minor": 0,
  "metadata": {
    "colab": {
      "name": "Group Assignment 3",
      "provenance": [],
      "include_colab_link": true
    },
    "kernelspec": {
      "name": "python3",
      "display_name": "Python 3"
    }
  },
  "cells": [
    {
      "cell_type": "markdown",
      "metadata": {
        "id": "view-in-github",
        "colab_type": "text"
      },
      "source": [
        "<a href=\"https://colab.research.google.com/github/nschlosser/Lab1/blob/master/Group_Assignment_3.ipynb\" target=\"_parent\"><img src=\"https://colab.research.google.com/assets/colab-badge.svg\" alt=\"Open In Colab\"/></a>"
      ]
    },
    {
      "cell_type": "code",
      "metadata": {
        "colab": {
          "base_uri": "https://localhost:8080/"
        },
        "id": "vQnamitGXEv-",
        "outputId": "b03fb344-1422-4ada-9038-448015cc71b3"
      },
      "source": [
        "%load_ext sql"
      ],
      "execution_count": null,
      "outputs": [
        {
          "output_type": "stream",
          "text": [
            "The sql extension is already loaded. To reload it, use:\n",
            "  %reload_ext sql\n"
          ],
          "name": "stdout"
        }
      ]
    },
    {
      "cell_type": "code",
      "metadata": {
        "colab": {
          "base_uri": "https://localhost:8080/",
          "height": 35
        },
        "id": "y_2DlggAXMTy",
        "outputId": "5b3bb686-685d-49f4-b40e-97136d3e9096"
      },
      "source": [
        "%sql sqlite:///companyDatabase.db"
      ],
      "execution_count": null,
      "outputs": [
        {
          "output_type": "execute_result",
          "data": {
            "application/vnd.google.colaboratory.intrinsic+json": {
              "type": "string"
            },
            "text/plain": [
              "'Connected: @companyDatabase.db'"
            ]
          },
          "metadata": {
            "tags": []
          },
          "execution_count": 4
        }
      ]
    },
    {
      "cell_type": "markdown",
      "metadata": {
        "id": "YlidcJcpXy6O"
      },
      "source": [
        "## Adding Tables"
      ]
    },
    {
      "cell_type": "code",
      "metadata": {
        "colab": {
          "base_uri": "https://localhost:8080/"
        },
        "id": "A1q09aZfX1Sl",
        "outputId": "65b7ffab-a916-4b28-b67e-3e4a8ee1a589"
      },
      "source": [
        "%%sql\n",
        "CREATE TABLE Customers(PSUID text PRIMARY KEY, firstName text, lastName text, rewardMember text);"
      ],
      "execution_count": null,
      "outputs": [
        {
          "output_type": "stream",
          "text": [
            " * sqlite:///companyDatabase.db\n",
            "Done.\n"
          ],
          "name": "stdout"
        },
        {
          "output_type": "execute_result",
          "data": {
            "text/plain": [
              "[]"
            ]
          },
          "metadata": {
            "tags": []
          },
          "execution_count": 5
        }
      ]
    },
    {
      "cell_type": "code",
      "metadata": {
        "colab": {
          "base_uri": "https://localhost:8080/"
        },
        "id": "_2WgY6GaePrp",
        "outputId": "e368f523-5cc5-40bd-da80-cfa77bb8cecd"
      },
      "source": [
        "%%sql\n",
        "CREATE TABLE Product(productID text PRIMARY KEY, price real, description text, department text, weight real);"
      ],
      "execution_count": null,
      "outputs": [
        {
          "output_type": "stream",
          "text": [
            " * sqlite:///companyDatabase.db\n",
            "Done.\n"
          ],
          "name": "stdout"
        },
        {
          "output_type": "execute_result",
          "data": {
            "text/plain": [
              "[]"
            ]
          },
          "metadata": {
            "tags": []
          },
          "execution_count": 7
        }
      ]
    },
    {
      "cell_type": "code",
      "metadata": {
        "colab": {
          "base_uri": "https://localhost:8080/"
        },
        "id": "-LkFiY4NehaA",
        "outputId": "5008798a-61dc-44f7-9e02-41e020781d54"
      },
      "source": [
        "%%sql\n",
        "CREATE TABLE Access(userName text PRIMARY KEY, password text, PSUID text);"
      ],
      "execution_count": null,
      "outputs": [
        {
          "output_type": "stream",
          "text": [
            " * sqlite:///companyDatabase.db\n",
            "(sqlite3.OperationalError) table Access already exists\n",
            "[SQL: CREATE TABLE Access(userName text PRIMARY KEY, password text, PSUID text);]\n",
            "(Background on this error at: http://sqlalche.me/e/13/e3q8)\n"
          ],
          "name": "stdout"
        }
      ]
    },
    {
      "cell_type": "code",
      "metadata": {
        "colab": {
          "base_uri": "https://localhost:8080/"
        },
        "id": "UHtAuYMQe-zV",
        "outputId": "e52da980-c47d-4101-e947-ddce07f06a50"
      },
      "source": [
        "%%sql\n",
        "CREATE TABLE Shipping(trackingNumber text PRIMARY KEY, shippingPrice real, arrival date, productID text, carrier text);"
      ],
      "execution_count": null,
      "outputs": [
        {
          "output_type": "stream",
          "text": [
            " * sqlite:///companyDatabase.db\n",
            "Done.\n"
          ],
          "name": "stdout"
        },
        {
          "output_type": "execute_result",
          "data": {
            "text/plain": [
              "[]"
            ]
          },
          "metadata": {
            "tags": []
          },
          "execution_count": 54
        }
      ]
    },
    {
      "cell_type": "code",
      "metadata": {
        "colab": {
          "base_uri": "https://localhost:8080/"
        },
        "id": "ORuqDlfsgFED",
        "outputId": "1a3ff77c-c411-4e56-9e82-2b33bed5576c"
      },
      "source": [
        "%%sql\n",
        "CREATE TABLE Support(orderNumber text PRIMARY KEY, trackingNumber text, department text);"
      ],
      "execution_count": null,
      "outputs": [
        {
          "output_type": "stream",
          "text": [
            " * sqlite:///companyDatabase.db\n",
            "Done.\n"
          ],
          "name": "stdout"
        },
        {
          "output_type": "execute_result",
          "data": {
            "text/plain": [
              "[]"
            ]
          },
          "metadata": {
            "tags": []
          },
          "execution_count": 12
        }
      ]
    },
    {
      "cell_type": "markdown",
      "metadata": {
        "id": "6D1qWfkPg3T8"
      },
      "source": [
        "##Populating Table Customer"
      ]
    },
    {
      "cell_type": "code",
      "metadata": {
        "colab": {
          "base_uri": "https://localhost:8080/"
        },
        "id": "ArJGSO1Tg5tU",
        "outputId": "8c09416b-aedc-41f0-bd07-b7289567d480"
      },
      "source": [
        "%%sql\n",
        "INSERT INTO Customers VALUES(\"923456789\", \"Joe\", \"Johnson\", \"n\");"
      ],
      "execution_count": null,
      "outputs": [
        {
          "output_type": "stream",
          "text": [
            " * sqlite:///companyDatabase.db\n",
            "1 rows affected.\n"
          ],
          "name": "stdout"
        },
        {
          "output_type": "execute_result",
          "data": {
            "text/plain": [
              "[]"
            ]
          },
          "metadata": {
            "tags": []
          },
          "execution_count": 14
        }
      ]
    },
    {
      "cell_type": "code",
      "metadata": {
        "colab": {
          "base_uri": "https://localhost:8080/"
        },
        "id": "H2dj9SgqhZry",
        "outputId": "b8b384f8-146f-45a1-ba09-194acdb463c4"
      },
      "source": [
        "%%sql\n",
        "INSERT INTO Customers VALUES(\"987654321\", \"Patrick\", \"Star\", \"y\");"
      ],
      "execution_count": null,
      "outputs": [
        {
          "output_type": "stream",
          "text": [
            " * sqlite:///companyDatabase.db\n",
            "1 rows affected.\n"
          ],
          "name": "stdout"
        },
        {
          "output_type": "execute_result",
          "data": {
            "text/plain": [
              "[]"
            ]
          },
          "metadata": {
            "tags": []
          },
          "execution_count": 15
        }
      ]
    },
    {
      "cell_type": "code",
      "metadata": {
        "colab": {
          "base_uri": "https://localhost:8080/"
        },
        "id": "ODpi8H5-hosJ",
        "outputId": "22edddd3-2f53-4402-d0ce-71313ff88d13"
      },
      "source": [
        "%%sql\n",
        "INSERT INTO Customers VALUES(\"982938465\", \"Homer\", \"Griffin\", \"n\");"
      ],
      "execution_count": null,
      "outputs": [
        {
          "output_type": "stream",
          "text": [
            " * sqlite:///companyDatabase.db\n",
            "1 rows affected.\n"
          ],
          "name": "stdout"
        },
        {
          "output_type": "execute_result",
          "data": {
            "text/plain": [
              "[]"
            ]
          },
          "metadata": {
            "tags": []
          },
          "execution_count": 16
        }
      ]
    },
    {
      "cell_type": "code",
      "metadata": {
        "colab": {
          "base_uri": "https://localhost:8080/"
        },
        "id": "kaPksMaQh4ge",
        "outputId": "bf3c0371-01a1-4e03-8004-b9b093d7baf5"
      },
      "source": [
        "%%sql\n",
        "INSERT INTO Customers VALUES(\"921384625\", \"Peter\", \"Simpson\", \"y\");"
      ],
      "execution_count": null,
      "outputs": [
        {
          "output_type": "stream",
          "text": [
            " * sqlite:///companyDatabase.db\n",
            "1 rows affected.\n"
          ],
          "name": "stdout"
        },
        {
          "output_type": "execute_result",
          "data": {
            "text/plain": [
              "[]"
            ]
          },
          "metadata": {
            "tags": []
          },
          "execution_count": 17
        }
      ]
    },
    {
      "cell_type": "code",
      "metadata": {
        "colab": {
          "base_uri": "https://localhost:8080/"
        },
        "id": "-yE5gF7eh_RX",
        "outputId": "73fd555c-9bc1-4431-f67a-554191ffd45b"
      },
      "source": [
        "%%sql\n",
        "INSERT INTO Customers VALUES(\"965836593\", \"Matt\", \"Damon\", \"y\");"
      ],
      "execution_count": null,
      "outputs": [
        {
          "output_type": "stream",
          "text": [
            " * sqlite:///companyDatabase.db\n",
            "1 rows affected.\n"
          ],
          "name": "stdout"
        },
        {
          "output_type": "execute_result",
          "data": {
            "text/plain": [
              "[]"
            ]
          },
          "metadata": {
            "tags": []
          },
          "execution_count": 18
        }
      ]
    },
    {
      "cell_type": "markdown",
      "metadata": {
        "id": "Yw3jRihmiRSW"
      },
      "source": [
        "##Populating Table Product"
      ]
    },
    {
      "cell_type": "code",
      "metadata": {
        "colab": {
          "base_uri": "https://localhost:8080/"
        },
        "id": "Iz4thDcxiUzx",
        "outputId": "a52964b1-6cef-48cd-b926-e535c2a5bca7"
      },
      "source": [
        "%%sql\n",
        "INSERT INTO Product VALUES(\"123456789\", 5.60, \"Colored pencils\", \"Office Supplies\", 0.1);"
      ],
      "execution_count": null,
      "outputs": [
        {
          "output_type": "stream",
          "text": [
            " * sqlite:///companyDatabase.db\n",
            "1 rows affected.\n"
          ],
          "name": "stdout"
        },
        {
          "output_type": "execute_result",
          "data": {
            "text/plain": [
              "[]"
            ]
          },
          "metadata": {
            "tags": []
          },
          "execution_count": 19
        }
      ]
    },
    {
      "cell_type": "code",
      "metadata": {
        "colab": {
          "base_uri": "https://localhost:8080/"
        },
        "id": "YkEwiqwxiyeC",
        "outputId": "d902c45d-e2df-4b46-b711-3a494261c7a5"
      },
      "source": [
        "%%sql\n",
        "INSERT INTO Product VALUES(\"739084923\", 12.50, \"Printer paper\", \"Office Supplies\", 3.0);"
      ],
      "execution_count": null,
      "outputs": [
        {
          "output_type": "stream",
          "text": [
            " * sqlite:///companyDatabase.db\n",
            "1 rows affected.\n"
          ],
          "name": "stdout"
        },
        {
          "output_type": "execute_result",
          "data": {
            "text/plain": [
              "[]"
            ]
          },
          "metadata": {
            "tags": []
          },
          "execution_count": 20
        }
      ]
    },
    {
      "cell_type": "code",
      "metadata": {
        "colab": {
          "base_uri": "https://localhost:8080/"
        },
        "id": "CxM2ue6NjLRT",
        "outputId": "040204f4-79eb-4210-b63c-0b020470da34"
      },
      "source": [
        "%%sql\n",
        "INSERT INTO Product VALUES(\"543298383\", 65.00, \"Backpack\", \"Apparel\", 2.5);"
      ],
      "execution_count": null,
      "outputs": [
        {
          "output_type": "stream",
          "text": [
            " * sqlite:///companyDatabase.db\n",
            "1 rows affected.\n"
          ],
          "name": "stdout"
        },
        {
          "output_type": "execute_result",
          "data": {
            "text/plain": [
              "[]"
            ]
          },
          "metadata": {
            "tags": []
          },
          "execution_count": 21
        }
      ]
    },
    {
      "cell_type": "code",
      "metadata": {
        "colab": {
          "base_uri": "https://localhost:8080/"
        },
        "id": "Fr1oygnhjfur",
        "outputId": "082d2a70-d048-4fb2-c3e6-dbae0f745808"
      },
      "source": [
        "%%sql\n",
        "INSERT INTO Product VALUES(\"984372637\", 30.00, \"Clicker\", \"School Supplies\", 0.5);"
      ],
      "execution_count": null,
      "outputs": [
        {
          "output_type": "stream",
          "text": [
            " * sqlite:///companyDatabase.db\n",
            "1 rows affected.\n"
          ],
          "name": "stdout"
        },
        {
          "output_type": "execute_result",
          "data": {
            "text/plain": [
              "[]"
            ]
          },
          "metadata": {
            "tags": []
          },
          "execution_count": 22
        }
      ]
    },
    {
      "cell_type": "code",
      "metadata": {
        "colab": {
          "base_uri": "https://localhost:8080/"
        },
        "id": "NE_tbqb-jy_F",
        "outputId": "2445e1a6-a802-41d0-a207-9acf25ab2b30"
      },
      "source": [
        "%%sql\n",
        "INSERT INTO Product VALUES(\"345678239\", 23.50, \"Football\", \"Sports\", 1.0);"
      ],
      "execution_count": null,
      "outputs": [
        {
          "output_type": "stream",
          "text": [
            " * sqlite:///companyDatabase.db\n",
            "1 rows affected.\n"
          ],
          "name": "stdout"
        },
        {
          "output_type": "execute_result",
          "data": {
            "text/plain": [
              "[]"
            ]
          },
          "metadata": {
            "tags": []
          },
          "execution_count": 23
        }
      ]
    },
    {
      "cell_type": "markdown",
      "metadata": {
        "id": "Xp6kGvszkMXT"
      },
      "source": [
        "##Populating Table Access"
      ]
    },
    {
      "cell_type": "code",
      "metadata": {
        "colab": {
          "base_uri": "https://localhost:8080/"
        },
        "id": "1dejF0SVk4kx",
        "outputId": "9d94c99a-9d15-4126-f70f-d1d47214d312"
      },
      "source": [
        "%%sql\n",
        "INSERT INTO Access VALUES(\"Simpleton50\", \"Password123\", \"923456789\");"
      ],
      "execution_count": null,
      "outputs": [
        {
          "output_type": "stream",
          "text": [
            " * sqlite:///companyDatabase.db\n",
            "1 rows affected.\n"
          ],
          "name": "stdout"
        },
        {
          "output_type": "execute_result",
          "data": {
            "text/plain": [
              "[]"
            ]
          },
          "metadata": {
            "tags": []
          },
          "execution_count": 28
        }
      ]
    },
    {
      "cell_type": "code",
      "metadata": {
        "colab": {
          "base_uri": "https://localhost:8080/"
        },
        "id": "w0q94v6jlAI8",
        "outputId": "67a5f3ef-9f29-4cbb-8b41-f75bb3712650"
      },
      "source": [
        "%%sql \n",
        "INSERT INTO Access VALUES(\"pstar1999\", \"SpongeBob!\", \"987654321\");"
      ],
      "execution_count": null,
      "outputs": [
        {
          "output_type": "stream",
          "text": [
            " * sqlite:///companyDatabase.db\n",
            "1 rows affected.\n"
          ],
          "name": "stdout"
        },
        {
          "output_type": "execute_result",
          "data": {
            "text/plain": [
              "[]"
            ]
          },
          "metadata": {
            "tags": []
          },
          "execution_count": 27
        }
      ]
    },
    {
      "cell_type": "code",
      "metadata": {
        "colab": {
          "base_uri": "https://localhost:8080/"
        },
        "id": "L_8p6NjVlX8g",
        "outputId": "1badfa2f-bf2c-4221-a9ab-1032c479bbe7"
      },
      "source": [
        "%%sql \n",
        "INSERT INTO Access VALUES(\"GriffyGriff39\", \"Homie264\", \"982938465\");"
      ],
      "execution_count": null,
      "outputs": [
        {
          "output_type": "stream",
          "text": [
            " * sqlite:///companyDatabase.db\n",
            "1 rows affected.\n"
          ],
          "name": "stdout"
        },
        {
          "output_type": "execute_result",
          "data": {
            "text/plain": [
              "[]"
            ]
          },
          "metadata": {
            "tags": []
          },
          "execution_count": 26
        }
      ]
    },
    {
      "cell_type": "code",
      "metadata": {
        "colab": {
          "base_uri": "https://localhost:8080/"
        },
        "id": "ewxKH6C8lyqQ",
        "outputId": "db364013-7f79-4b87-83c9-75c839b71e8c"
      },
      "source": [
        "%%sql \n",
        "INSERT INTO Access VALUES(\"PSimps22\", \"Roadhouse\", \"921384625\");"
      ],
      "execution_count": null,
      "outputs": [
        {
          "output_type": "stream",
          "text": [
            " * sqlite:///companyDatabase.db\n",
            "1 rows affected.\n"
          ],
          "name": "stdout"
        },
        {
          "output_type": "execute_result",
          "data": {
            "text/plain": [
              "[]"
            ]
          },
          "metadata": {
            "tags": []
          },
          "execution_count": 25
        }
      ]
    },
    {
      "cell_type": "code",
      "metadata": {
        "colab": {
          "base_uri": "https://localhost:8080/"
        },
        "id": "5CBnCD9ml9y1",
        "outputId": "549e5191-ac7f-4129-91a1-9e91a96746bb"
      },
      "source": [
        "%%sql \n",
        "INSERT INTO Access VALUES(\"MattDamon11\", \"@MattDamon84\", \"965836593\");"
      ],
      "execution_count": null,
      "outputs": [
        {
          "output_type": "stream",
          "text": [
            " * sqlite:///companyDatabase.db\n",
            "1 rows affected.\n"
          ],
          "name": "stdout"
        },
        {
          "output_type": "execute_result",
          "data": {
            "text/plain": [
              "[]"
            ]
          },
          "metadata": {
            "tags": []
          },
          "execution_count": 29
        }
      ]
    },
    {
      "cell_type": "markdown",
      "metadata": {
        "id": "0P9C1VYYmSpO"
      },
      "source": [
        "##Populating Table Shipping"
      ]
    },
    {
      "cell_type": "code",
      "metadata": {
        "colab": {
          "base_uri": "https://localhost:8080/"
        },
        "id": "dwbsp39TmX6p",
        "outputId": "e10db075-2ca8-49da-ec69-5e6f7a5b4a0e"
      },
      "source": [
        "%%sql\n",
        "INSERT INTO Shipping VALUES(\"9384729473\", 1.50, \"10-31-2020\", \"123456789\", \"USPS\");"
      ],
      "execution_count": null,
      "outputs": [
        {
          "output_type": "stream",
          "text": [
            " * sqlite:///companyDatabase.db\n",
            "1 rows affected.\n"
          ],
          "name": "stdout"
        },
        {
          "output_type": "execute_result",
          "data": {
            "text/plain": [
              "[]"
            ]
          },
          "metadata": {
            "tags": []
          },
          "execution_count": 55
        }
      ]
    },
    {
      "cell_type": "code",
      "metadata": {
        "colab": {
          "base_uri": "https://localhost:8080/"
        },
        "id": "itxmRTq8m26B",
        "outputId": "7e4ea581-1e35-496c-b1f0-5ba1458701a1"
      },
      "source": [
        "%%sql\n",
        "INSERT INTO Shipping VALUES(\"192846392\", 3.99, \"11-30-2020\", \"739084923\", \"DHL\");"
      ],
      "execution_count": null,
      "outputs": [
        {
          "output_type": "stream",
          "text": [
            " * sqlite:///companyDatabase.db\n",
            "1 rows affected.\n"
          ],
          "name": "stdout"
        },
        {
          "output_type": "execute_result",
          "data": {
            "text/plain": [
              "[]"
            ]
          },
          "metadata": {
            "tags": []
          },
          "execution_count": 56
        }
      ]
    },
    {
      "cell_type": "code",
      "metadata": {
        "colab": {
          "base_uri": "https://localhost:8080/"
        },
        "id": "sFFb1N3im_LU",
        "outputId": "cffc2823-7862-48c5-d4b6-013cc9bc234d"
      },
      "source": [
        "%%sql\n",
        "INSERT INTO Shipping VALUES(\"2938473645\", 2.00, \"11-19-2020\", \"543298383\", \"UPS\");"
      ],
      "execution_count": null,
      "outputs": [
        {
          "output_type": "stream",
          "text": [
            " * sqlite:///companyDatabase.db\n",
            "1 rows affected.\n"
          ],
          "name": "stdout"
        },
        {
          "output_type": "execute_result",
          "data": {
            "text/plain": [
              "[]"
            ]
          },
          "metadata": {
            "tags": []
          },
          "execution_count": 57
        }
      ]
    },
    {
      "cell_type": "code",
      "metadata": {
        "colab": {
          "base_uri": "https://localhost:8080/"
        },
        "id": "pi6K0wXynGkj",
        "outputId": "115dc54b-4179-411f-981a-ae107712d123"
      },
      "source": [
        "%%sql\n",
        "INSERT INTO Shipping VALUES(\"4738267492\", 1.75, \"12-25-2020\", \"984372637\", \"USPS\");"
      ],
      "execution_count": null,
      "outputs": [
        {
          "output_type": "stream",
          "text": [
            " * sqlite:///companyDatabase.db\n",
            "1 rows affected.\n"
          ],
          "name": "stdout"
        },
        {
          "output_type": "execute_result",
          "data": {
            "text/plain": [
              "[]"
            ]
          },
          "metadata": {
            "tags": []
          },
          "execution_count": 58
        }
      ]
    },
    {
      "cell_type": "code",
      "metadata": {
        "colab": {
          "base_uri": "https://localhost:8080/"
        },
        "id": "bJq0IT5PnWeG",
        "outputId": "4425cda4-3cc3-44ed-ac4c-e76f74c9980c"
      },
      "source": [
        "%%sql\n",
        "INSERT INTO Shipping VALUES(\"7474362819\", 2.00, \"01-01-2021\", \"345678239\", \"FedEx\");"
      ],
      "execution_count": null,
      "outputs": [
        {
          "output_type": "stream",
          "text": [
            " * sqlite:///companyDatabase.db\n",
            "1 rows affected.\n"
          ],
          "name": "stdout"
        },
        {
          "output_type": "execute_result",
          "data": {
            "text/plain": [
              "[]"
            ]
          },
          "metadata": {
            "tags": []
          },
          "execution_count": 59
        }
      ]
    },
    {
      "cell_type": "markdown",
      "metadata": {
        "id": "pTPpsqQWnkAR"
      },
      "source": [
        "##Populating Support Table"
      ]
    },
    {
      "cell_type": "code",
      "metadata": {
        "colab": {
          "base_uri": "https://localhost:8080/"
        },
        "id": "srWjR15MnjGw",
        "outputId": "5f3be07f-26aa-4e5e-b38d-3ba1f5bc461c"
      },
      "source": [
        "%%sql\n",
        "INSERT INTO Support VALUES(\"234\", \"123456789\", \"Office Supplies\");"
      ],
      "execution_count": null,
      "outputs": [
        {
          "output_type": "stream",
          "text": [
            " * sqlite:///companyDatabase.db\n",
            "1 rows affected.\n"
          ],
          "name": "stdout"
        },
        {
          "output_type": "execute_result",
          "data": {
            "text/plain": [
              "[]"
            ]
          },
          "metadata": {
            "tags": []
          },
          "execution_count": 39
        }
      ]
    },
    {
      "cell_type": "code",
      "metadata": {
        "colab": {
          "base_uri": "https://localhost:8080/"
        },
        "id": "pPjNl2d8oHCO",
        "outputId": "71fdd674-5296-4c5d-a435-dc3ae38ec7bc"
      },
      "source": [
        "%%sql\n",
        "INSERT INTO Support VALUES(\"82\", \"739084923\", \"Office Supplies\");"
      ],
      "execution_count": null,
      "outputs": [
        {
          "output_type": "stream",
          "text": [
            " * sqlite:///companyDatabase.db\n",
            "1 rows affected.\n"
          ],
          "name": "stdout"
        },
        {
          "output_type": "execute_result",
          "data": {
            "text/plain": [
              "[]"
            ]
          },
          "metadata": {
            "tags": []
          },
          "execution_count": 38
        }
      ]
    },
    {
      "cell_type": "code",
      "metadata": {
        "colab": {
          "base_uri": "https://localhost:8080/"
        },
        "id": "fw8sUjE7oNzD",
        "outputId": "c4156058-dd5c-4d7f-c22f-c1fddaa05e16"
      },
      "source": [
        "%%sql\n",
        "INSERT INTO Support VALUES(\"450\", \"543298383\", \"Apparel\");"
      ],
      "execution_count": null,
      "outputs": [
        {
          "output_type": "stream",
          "text": [
            " * sqlite:///companyDatabase.db\n",
            "1 rows affected.\n"
          ],
          "name": "stdout"
        },
        {
          "output_type": "execute_result",
          "data": {
            "text/plain": [
              "[]"
            ]
          },
          "metadata": {
            "tags": []
          },
          "execution_count": 37
        }
      ]
    },
    {
      "cell_type": "code",
      "metadata": {
        "colab": {
          "base_uri": "https://localhost:8080/"
        },
        "id": "t9-PGkisolVO",
        "outputId": "c7bfaea6-c094-4fa6-d9a3-0e3930fdd076"
      },
      "source": [
        "%%sql\n",
        "INSERT INTO Support VALUES(\"90\", \"984372637\", \"School Supplies\");"
      ],
      "execution_count": null,
      "outputs": [
        {
          "output_type": "stream",
          "text": [
            " * sqlite:///companyDatabase.db\n",
            "1 rows affected.\n"
          ],
          "name": "stdout"
        },
        {
          "output_type": "execute_result",
          "data": {
            "text/plain": [
              "[]"
            ]
          },
          "metadata": {
            "tags": []
          },
          "execution_count": 36
        }
      ]
    },
    {
      "cell_type": "code",
      "metadata": {
        "colab": {
          "base_uri": "https://localhost:8080/"
        },
        "id": "xpqofDkxoucr",
        "outputId": "294843aa-6877-42da-837c-5c44813984c7"
      },
      "source": [
        "%%sql\n",
        "INSERT INTO Support VALUES(\"1000\", \"345678239\", \"Sports\");"
      ],
      "execution_count": null,
      "outputs": [
        {
          "output_type": "stream",
          "text": [
            " * sqlite:///companyDatabase.db\n",
            "1 rows affected.\n"
          ],
          "name": "stdout"
        },
        {
          "output_type": "execute_result",
          "data": {
            "text/plain": [
              "[]"
            ]
          },
          "metadata": {
            "tags": []
          },
          "execution_count": 35
        }
      ]
    },
    {
      "cell_type": "markdown",
      "metadata": {
        "id": "Hdrg4_ZxpW2l"
      },
      "source": [
        "##Questions"
      ]
    },
    {
      "cell_type": "markdown",
      "metadata": {
        "id": "-MvC5eXBpZbw"
      },
      "source": [
        "What is the price and weight of the heaviest weighing item from each department?"
      ]
    },
    {
      "cell_type": "code",
      "metadata": {
        "colab": {
          "base_uri": "https://localhost:8080/",
          "height": 158
        },
        "id": "1mrw9ng5t61v",
        "outputId": "426a5949-c4f3-4da3-e854-a8730cc7ba9b"
      },
      "source": [
        "%%sql\n",
        "SELECT Department, price, MAX(weight) FROM Product GROUP BY Department;"
      ],
      "execution_count": null,
      "outputs": [
        {
          "output_type": "stream",
          "text": [
            " * sqlite:///companyDatabase.db\n",
            "Done.\n"
          ],
          "name": "stdout"
        },
        {
          "output_type": "execute_result",
          "data": {
            "text/html": [
              "<table>\n",
              "    <tr>\n",
              "        <th>department</th>\n",
              "        <th>price</th>\n",
              "        <th>MAX(weight)</th>\n",
              "    </tr>\n",
              "    <tr>\n",
              "        <td>Apparel</td>\n",
              "        <td>65.0</td>\n",
              "        <td>2.5</td>\n",
              "    </tr>\n",
              "    <tr>\n",
              "        <td>Office Supplies</td>\n",
              "        <td>12.5</td>\n",
              "        <td>3.0</td>\n",
              "    </tr>\n",
              "    <tr>\n",
              "        <td>School Supplies</td>\n",
              "        <td>30.0</td>\n",
              "        <td>0.5</td>\n",
              "    </tr>\n",
              "    <tr>\n",
              "        <td>Sports</td>\n",
              "        <td>23.5</td>\n",
              "        <td>1.0</td>\n",
              "    </tr>\n",
              "</table>"
            ],
            "text/plain": [
              "[('Apparel', 65.0, 2.5),\n",
              " ('Office Supplies', 12.5, 3.0),\n",
              " ('School Supplies', 30.0, 0.5),\n",
              " ('Sports', 23.5, 1.0)]"
            ]
          },
          "metadata": {
            "tags": []
          },
          "execution_count": 64
        }
      ]
    },
    {
      "cell_type": "markdown",
      "metadata": {
        "id": "Xsv2Eg7ZuyPz"
      },
      "source": [
        "This is an important question because we have to keep track of the size and price of items within a specific department for warehousing and storage concerns. Each department warehouse is capable of storing items under specific size and weight restrictions that correspond to the price. This is because shelves have limited space available and limited weight capacity and security. This information helps us allocate space for these items on appropriate shelves with appropriate size and weight capacity as well as services to provide proper handling of expensive and fragile items. Overall this makes taking inventory and performing inventory updates much easier."
      ]
    },
    {
      "cell_type": "markdown",
      "metadata": {
        "id": "P-oLcrphqdOp"
      },
      "source": [
        "What customers are enrolled in the rewards program?"
      ]
    },
    {
      "cell_type": "code",
      "metadata": {
        "colab": {
          "base_uri": "https://localhost:8080/",
          "height": 137
        },
        "id": "g3sfWlwBrTlG",
        "outputId": "1b3c7e41-9b74-4b7f-9d6e-2b89d9575264"
      },
      "source": [
        "%%sql\n",
        "SELECT firstName, lastName FROM Customers WHERE rewardMember = \"y\";"
      ],
      "execution_count": null,
      "outputs": [
        {
          "output_type": "stream",
          "text": [
            " * sqlite:///companyDatabase.db\n",
            "Done.\n"
          ],
          "name": "stdout"
        },
        {
          "output_type": "execute_result",
          "data": {
            "text/html": [
              "<table>\n",
              "    <tr>\n",
              "        <th>firstName</th>\n",
              "        <th>lastName</th>\n",
              "    </tr>\n",
              "    <tr>\n",
              "        <td>Patrick</td>\n",
              "        <td>Star</td>\n",
              "    </tr>\n",
              "    <tr>\n",
              "        <td>Peter</td>\n",
              "        <td>Simpson</td>\n",
              "    </tr>\n",
              "    <tr>\n",
              "        <td>Matt</td>\n",
              "        <td>Damon</td>\n",
              "    </tr>\n",
              "</table>"
            ],
            "text/plain": [
              "[('Patrick', 'Star'), ('Peter', 'Simpson'), ('Matt', 'Damon')]"
            ]
          },
          "metadata": {
            "tags": []
          },
          "execution_count": 41
        }
      ]
    },
    {
      "cell_type": "markdown",
      "metadata": {
        "id": "Le9cQKOKvL50"
      },
      "source": [
        "Our question regarding the current customers enrolled in our rewards program, helps us figure out how much extra money we are making each year, for the price of a yearly membership. This also helps us see who is eligible for price discounts if the customer is a reward member."
      ]
    },
    {
      "cell_type": "markdown",
      "metadata": {
        "id": "D_CBelb6qk47"
      },
      "source": [
        "What is the total price of products expected to arrive in December?"
      ]
    },
    {
      "cell_type": "code",
      "metadata": {
        "colab": {
          "base_uri": "https://localhost:8080/",
          "height": 95
        },
        "id": "_HVImb0sriwd",
        "outputId": "64543e63-147c-40ed-d478-322ff9d32368"
      },
      "source": [
        "%%sql\n",
        "SELECT SUM(p.price) FROM Product p, Shipping s WHERE p.productID = s.productID AND s.arrival LIKE \"12-%\";"
      ],
      "execution_count": null,
      "outputs": [
        {
          "output_type": "stream",
          "text": [
            " * sqlite:///companyDatabase.db\n",
            "Done.\n"
          ],
          "name": "stdout"
        },
        {
          "output_type": "execute_result",
          "data": {
            "text/html": [
              "<table>\n",
              "    <tr>\n",
              "        <th>SUM(p.price)</th>\n",
              "    </tr>\n",
              "    <tr>\n",
              "        <td>30.0</td>\n",
              "    </tr>\n",
              "</table>"
            ],
            "text/plain": [
              "[(30.0,)]"
            ]
          },
          "metadata": {
            "tags": []
          },
          "execution_count": 60
        }
      ]
    },
    {
      "cell_type": "markdown",
      "metadata": {
        "id": "SIo1iVp_vcZ6"
      },
      "source": [
        "Our question regarding the total amount of money accumulated in December, helps describe the total amount of money made that month from every department. This is important to have, because it displays our company's money flow coming in. This is important because when we add the money we spent on products it will then give is the gross total."
      ]
    },
    {
      "cell_type": "markdown",
      "metadata": {
        "id": "6rTjULkcv3qT"
      },
      "source": [
        "![Group Assignment 2.png](data:image/png;base64,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)"
      ]
    }
  ]
}